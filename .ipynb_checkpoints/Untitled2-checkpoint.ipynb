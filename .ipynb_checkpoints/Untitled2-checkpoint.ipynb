{
 "cells": [
  {
   "cell_type": "code",
   "execution_count": 1,
   "metadata": {},
   "outputs": [
    {
     "data": {
      "text/plain": [
       "<Figure size 640x480 with 1 Axes>"
      ]
     },
     "metadata": {},
     "output_type": "display_data"
    },
    {
     "data": {
      "text/plain": [
       "<Figure size 640x480 with 1 Axes>"
      ]
     },
     "metadata": {},
     "output_type": "display_data"
    },
    {
     "data": {
      "text/plain": [
       "<Figure size 640x480 with 1 Axes>"
      ]
     },
     "metadata": {},
     "output_type": "display_data"
    },
    {
     "name": "stderr",
     "output_type": "stream",
     "text": [
      "WARNING:root:Lossy conversion from float64 to uint8. Range [0.0, 304.0]. Convert image to uint8 prior to saving to suppress this warning.\n"
     ]
    },
    {
     "data": {
      "text/plain": [
       "<Figure size 640x480 with 1 Axes>"
      ]
     },
     "metadata": {},
     "output_type": "display_data"
    },
    {
     "data": {
      "text/plain": [
       "<Figure size 640x480 with 1 Axes>"
      ]
     },
     "metadata": {},
     "output_type": "display_data"
    },
    {
     "data": {
      "text/plain": [
       "<Figure size 640x480 with 1 Axes>"
      ]
     },
     "metadata": {},
     "output_type": "display_data"
    },
    {
     "name": "stderr",
     "output_type": "stream",
     "text": [
      "WARNING:root:Lossy conversion from float64 to uint8. Range [0.0, 302.0]. Convert image to uint8 prior to saving to suppress this warning.\n"
     ]
    },
    {
     "data": {
      "text/plain": [
       "<Figure size 640x480 with 1 Axes>"
      ]
     },
     "metadata": {},
     "output_type": "display_data"
    },
    {
     "data": {
      "text/plain": [
       "<Figure size 640x480 with 1 Axes>"
      ]
     },
     "metadata": {},
     "output_type": "display_data"
    },
    {
     "data": {
      "text/plain": [
       "<Figure size 640x480 with 1 Axes>"
      ]
     },
     "metadata": {},
     "output_type": "display_data"
    },
    {
     "name": "stderr",
     "output_type": "stream",
     "text": [
      "WARNING:root:Lossy conversion from float64 to uint8. Range [0.0, 330.0]. Convert image to uint8 prior to saving to suppress this warning.\n"
     ]
    },
    {
     "data": {
      "text/plain": [
       "<Figure size 640x480 with 1 Axes>"
      ]
     },
     "metadata": {},
     "output_type": "display_data"
    },
    {
     "data": {
      "text/plain": [
       "<Figure size 640x480 with 1 Axes>"
      ]
     },
     "metadata": {},
     "output_type": "display_data"
    },
    {
     "data": {
      "text/plain": [
       "<Figure size 640x480 with 1 Axes>"
      ]
     },
     "metadata": {},
     "output_type": "display_data"
    },
    {
     "name": "stderr",
     "output_type": "stream",
     "text": [
      "WARNING:root:Lossy conversion from float64 to uint8. Range [0.0, 375.0]. Convert image to uint8 prior to saving to suppress this warning.\n"
     ]
    },
    {
     "data": {
      "text/plain": [
       "<Figure size 640x480 with 1 Axes>"
      ]
     },
     "metadata": {},
     "output_type": "display_data"
    },
    {
     "data": {
      "text/plain": [
       "<Figure size 640x480 with 1 Axes>"
      ]
     },
     "metadata": {},
     "output_type": "display_data"
    },
    {
     "data": {
      "text/plain": [
       "<Figure size 640x480 with 1 Axes>"
      ]
     },
     "metadata": {},
     "output_type": "display_data"
    },
    {
     "name": "stderr",
     "output_type": "stream",
     "text": [
      "WARNING:root:Lossy conversion from float64 to uint8. Range [0.0, 410.0]. Convert image to uint8 prior to saving to suppress this warning.\n"
     ]
    },
    {
     "data": {
      "text/plain": [
       "<Figure size 640x480 with 1 Axes>"
      ]
     },
     "metadata": {},
     "output_type": "display_data"
    },
    {
     "data": {
      "text/plain": [
       "<Figure size 640x480 with 1 Axes>"
      ]
     },
     "metadata": {},
     "output_type": "display_data"
    },
    {
     "data": {
      "text/plain": [
       "<Figure size 640x480 with 1 Axes>"
      ]
     },
     "metadata": {},
     "output_type": "display_data"
    },
    {
     "name": "stderr",
     "output_type": "stream",
     "text": [
      "WARNING:root:Lossy conversion from float64 to uint8. Range [0.0, 455.0]. Convert image to uint8 prior to saving to suppress this warning.\n"
     ]
    },
    {
     "data": {
      "text/plain": [
       "<Figure size 640x480 with 1 Axes>"
      ]
     },
     "metadata": {},
     "output_type": "display_data"
    },
    {
     "data": {
      "text/plain": [
       "<Figure size 640x480 with 1 Axes>"
      ]
     },
     "metadata": {},
     "output_type": "display_data"
    },
    {
     "data": {
      "text/plain": [
       "<Figure size 640x480 with 1 Axes>"
      ]
     },
     "metadata": {},
     "output_type": "display_data"
    },
    {
     "name": "stderr",
     "output_type": "stream",
     "text": [
      "WARNING:root:Lossy conversion from float64 to uint8. Range [0.0, 214.0]. Convert image to uint8 prior to saving to suppress this warning.\n"
     ]
    },
    {
     "data": {
      "text/plain": [
       "<Figure size 640x480 with 1 Axes>"
      ]
     },
     "metadata": {},
     "output_type": "display_data"
    },
    {
     "data": {
      "text/plain": [
       "<Figure size 640x480 with 1 Axes>"
      ]
     },
     "metadata": {},
     "output_type": "display_data"
    },
    {
     "data": {
      "text/plain": [
       "<Figure size 640x480 with 1 Axes>"
      ]
     },
     "metadata": {},
     "output_type": "display_data"
    },
    {
     "name": "stderr",
     "output_type": "stream",
     "text": [
      "WARNING:root:Lossy conversion from float64 to uint8. Range [0.0, 217.0]. Convert image to uint8 prior to saving to suppress this warning.\n"
     ]
    },
    {
     "data": {
      "text/plain": [
       "<Figure size 640x480 with 1 Axes>"
      ]
     },
     "metadata": {},
     "output_type": "display_data"
    },
    {
     "data": {
      "text/plain": [
       "<Figure size 640x480 with 1 Axes>"
      ]
     },
     "metadata": {},
     "output_type": "display_data"
    },
    {
     "data": {
      "text/plain": [
       "<Figure size 640x480 with 1 Axes>"
      ]
     },
     "metadata": {},
     "output_type": "display_data"
    },
    {
     "name": "stderr",
     "output_type": "stream",
     "text": [
      "WARNING:root:Lossy conversion from float64 to uint8. Range [0.0, 358.0]. Convert image to uint8 prior to saving to suppress this warning.\n"
     ]
    },
    {
     "data": {
      "text/plain": [
       "<Figure size 640x480 with 1 Axes>"
      ]
     },
     "metadata": {},
     "output_type": "display_data"
    },
    {
     "data": {
      "text/plain": [
       "<Figure size 640x480 with 1 Axes>"
      ]
     },
     "metadata": {},
     "output_type": "display_data"
    },
    {
     "data": {
      "text/plain": [
       "<Figure size 640x480 with 1 Axes>"
      ]
     },
     "metadata": {},
     "output_type": "display_data"
    },
    {
     "name": "stderr",
     "output_type": "stream",
     "text": [
      "WARNING:root:Lossy conversion from float64 to uint8. Range [0.0, 435.0]. Convert image to uint8 prior to saving to suppress this warning.\n"
     ]
    },
    {
     "data": {
      "text/plain": [
       "<Figure size 640x480 with 1 Axes>"
      ]
     },
     "metadata": {},
     "output_type": "display_data"
    },
    {
     "data": {
      "text/plain": [
       "<Figure size 640x480 with 1 Axes>"
      ]
     },
     "metadata": {},
     "output_type": "display_data"
    },
    {
     "data": {
      "text/plain": [
       "<Figure size 640x480 with 1 Axes>"
      ]
     },
     "metadata": {},
     "output_type": "display_data"
    },
    {
     "name": "stderr",
     "output_type": "stream",
     "text": [
      "WARNING:root:Lossy conversion from float64 to uint8. Range [0.0, 296.0]. Convert image to uint8 prior to saving to suppress this warning.\n"
     ]
    },
    {
     "data": {
      "text/plain": [
       "<Figure size 640x480 with 1 Axes>"
      ]
     },
     "metadata": {},
     "output_type": "display_data"
    },
    {
     "data": {
      "text/plain": [
       "<Figure size 640x480 with 1 Axes>"
      ]
     },
     "metadata": {},
     "output_type": "display_data"
    },
    {
     "data": {
      "text/plain": [
       "<Figure size 640x480 with 1 Axes>"
      ]
     },
     "metadata": {},
     "output_type": "display_data"
    },
    {
     "name": "stderr",
     "output_type": "stream",
     "text": [
      "WARNING:root:Lossy conversion from float64 to uint8. Range [0.0, 453.0]. Convert image to uint8 prior to saving to suppress this warning.\n",
      "D:\\Anaconda\\lib\\site-packages\\ipykernel_launcher.py:255: RuntimeWarning: invalid value encountered in double_scalars\n"
     ]
    },
    {
     "data": {
      "text/plain": [
       "<Figure size 640x480 with 1 Axes>"
      ]
     },
     "metadata": {},
     "output_type": "display_data"
    },
    {
     "data": {
      "text/plain": [
       "<Figure size 640x480 with 1 Axes>"
      ]
     },
     "metadata": {},
     "output_type": "display_data"
    },
    {
     "data": {
      "text/plain": [
       "<Figure size 640x480 with 1 Axes>"
      ]
     },
     "metadata": {},
     "output_type": "display_data"
    },
    {
     "name": "stderr",
     "output_type": "stream",
     "text": [
      "WARNING:root:Lossy conversion from float64 to uint8. Range [0.0, 236.0]. Convert image to uint8 prior to saving to suppress this warning.\n"
     ]
    },
    {
     "data": {
      "text/plain": [
       "<Figure size 640x480 with 1 Axes>"
      ]
     },
     "metadata": {},
     "output_type": "display_data"
    },
    {
     "data": {
      "text/plain": [
       "<Figure size 640x480 with 1 Axes>"
      ]
     },
     "metadata": {},
     "output_type": "display_data"
    },
    {
     "data": {
      "text/plain": [
       "<Figure size 640x480 with 1 Axes>"
      ]
     },
     "metadata": {},
     "output_type": "display_data"
    },
    {
     "name": "stderr",
     "output_type": "stream",
     "text": [
      "WARNING:root:Lossy conversion from float64 to uint8. Range [0.0, 300.0]. Convert image to uint8 prior to saving to suppress this warning.\n"
     ]
    },
    {
     "data": {
      "text/plain": [
       "<Figure size 640x480 with 1 Axes>"
      ]
     },
     "metadata": {},
     "output_type": "display_data"
    },
    {
     "data": {
      "text/plain": [
       "<Figure size 640x480 with 1 Axes>"
      ]
     },
     "metadata": {},
     "output_type": "display_data"
    },
    {
     "data": {
      "text/plain": [
       "<Figure size 640x480 with 1 Axes>"
      ]
     },
     "metadata": {},
     "output_type": "display_data"
    },
    {
     "name": "stderr",
     "output_type": "stream",
     "text": [
      "WARNING:root:Lossy conversion from float64 to uint8. Range [0.0, 441.0]. Convert image to uint8 prior to saving to suppress this warning.\n"
     ]
    },
    {
     "data": {
      "text/plain": [
       "<Figure size 640x480 with 1 Axes>"
      ]
     },
     "metadata": {},
     "output_type": "display_data"
    },
    {
     "data": {
      "text/plain": [
       "<Figure size 640x480 with 1 Axes>"
      ]
     },
     "metadata": {},
     "output_type": "display_data"
    },
    {
     "data": {
      "text/plain": [
       "<Figure size 640x480 with 1 Axes>"
      ]
     },
     "metadata": {},
     "output_type": "display_data"
    },
    {
     "name": "stderr",
     "output_type": "stream",
     "text": [
      "WARNING:root:Lossy conversion from float64 to uint8. Range [0.0, 403.0]. Convert image to uint8 prior to saving to suppress this warning.\n"
     ]
    },
    {
     "data": {
      "text/plain": [
       "<Figure size 640x480 with 1 Axes>"
      ]
     },
     "metadata": {},
     "output_type": "display_data"
    },
    {
     "data": {
      "text/plain": [
       "<Figure size 640x480 with 1 Axes>"
      ]
     },
     "metadata": {},
     "output_type": "display_data"
    },
    {
     "data": {
      "text/plain": [
       "<Figure size 640x480 with 1 Axes>"
      ]
     },
     "metadata": {},
     "output_type": "display_data"
    },
    {
     "name": "stderr",
     "output_type": "stream",
     "text": [
      "WARNING:root:Lossy conversion from float64 to uint8. Range [0.0, 375.0]. Convert image to uint8 prior to saving to suppress this warning.\n"
     ]
    },
    {
     "data": {
      "text/plain": [
       "<Figure size 640x480 with 1 Axes>"
      ]
     },
     "metadata": {},
     "output_type": "display_data"
    },
    {
     "data": {
      "text/plain": [
       "<Figure size 640x480 with 1 Axes>"
      ]
     },
     "metadata": {},
     "output_type": "display_data"
    },
    {
     "data": {
      "text/plain": [
       "<Figure size 640x480 with 1 Axes>"
      ]
     },
     "metadata": {},
     "output_type": "display_data"
    },
    {
     "name": "stderr",
     "output_type": "stream",
     "text": [
      "WARNING:root:Lossy conversion from float64 to uint8. Range [0.0, 293.0]. Convert image to uint8 prior to saving to suppress this warning.\n"
     ]
    },
    {
     "data": {
      "text/plain": [
       "<Figure size 640x480 with 1 Axes>"
      ]
     },
     "metadata": {},
     "output_type": "display_data"
    },
    {
     "data": {
      "text/plain": [
       "<Figure size 640x480 with 1 Axes>"
      ]
     },
     "metadata": {},
     "output_type": "display_data"
    },
    {
     "data": {
      "text/plain": [
       "<Figure size 640x480 with 1 Axes>"
      ]
     },
     "metadata": {},
     "output_type": "display_data"
    },
    {
     "name": "stderr",
     "output_type": "stream",
     "text": [
      "WARNING:root:Lossy conversion from float64 to uint8. Range [0.0, 342.0]. Convert image to uint8 prior to saving to suppress this warning.\n"
     ]
    },
    {
     "data": {
      "text/plain": [
       "<Figure size 640x480 with 1 Axes>"
      ]
     },
     "metadata": {},
     "output_type": "display_data"
    },
    {
     "data": {
      "text/plain": [
       "<Figure size 640x480 with 1 Axes>"
      ]
     },
     "metadata": {},
     "output_type": "display_data"
    },
    {
     "data": {
      "text/plain": [
       "<Figure size 640x480 with 1 Axes>"
      ]
     },
     "metadata": {},
     "output_type": "display_data"
    },
    {
     "name": "stderr",
     "output_type": "stream",
     "text": [
      "WARNING:root:Lossy conversion from float64 to uint8. Range [0.0, 398.0]. Convert image to uint8 prior to saving to suppress this warning.\n"
     ]
    },
    {
     "data": {
      "text/plain": [
       "<Figure size 640x480 with 1 Axes>"
      ]
     },
     "metadata": {},
     "output_type": "display_data"
    },
    {
     "data": {
      "text/plain": [
       "<Figure size 640x480 with 1 Axes>"
      ]
     },
     "metadata": {},
     "output_type": "display_data"
    },
    {
     "data": {
      "text/plain": [
       "<Figure size 640x480 with 1 Axes>"
      ]
     },
     "metadata": {},
     "output_type": "display_data"
    },
    {
     "name": "stderr",
     "output_type": "stream",
     "text": [
      "WARNING:root:Lossy conversion from float64 to uint8. Range [0.0, 361.0]. Convert image to uint8 prior to saving to suppress this warning.\n"
     ]
    },
    {
     "data": {
      "text/plain": [
       "<Figure size 640x480 with 1 Axes>"
      ]
     },
     "metadata": {},
     "output_type": "display_data"
    },
    {
     "data": {
      "text/plain": [
       "<Figure size 640x480 with 1 Axes>"
      ]
     },
     "metadata": {},
     "output_type": "display_data"
    },
    {
     "data": {
      "text/plain": [
       "<Figure size 640x480 with 1 Axes>"
      ]
     },
     "metadata": {},
     "output_type": "display_data"
    },
    {
     "name": "stderr",
     "output_type": "stream",
     "text": [
      "WARNING:root:Lossy conversion from float64 to uint8. Range [0.0, 412.0]. Convert image to uint8 prior to saving to suppress this warning.\n"
     ]
    },
    {
     "name": "stdout",
     "output_type": "stream",
     "text": [
      "[array([[0.58350479]]), array([[0.58350479]])]\n"
     ]
    }
   ],
   "source": [
    "\n",
    "import numpy as np\n",
    "import cv2\n",
    "from matplotlib import pyplot as plt\n",
    "from math import sqrt\n",
    "from math import degrees\n",
    "\n",
    "\n",
    "\n",
    "\n",
    "\n",
    "# In[ ]:\n",
    "\n",
    "\n",
    "\n",
    "\n",
    "\n",
    "# In[38]:\n",
    "\n",
    "\n",
    "\n",
    "#  Prewitt Operator  used for the Prewitt Operation and wil return the GradientX and GradientY. \n",
    "def prewitt_operator(new_image_array):\n",
    "    perwittoperatorsx=np.array([[-1,0,1],[-1,0,1],[-1,0,1]])\n",
    "    perwittoperatorsxx,perwittoperatorsxy=perwittoperatorsx.shape\n",
    "    perwittoperatorsy=np.array([[1,1,1],[0,0,0],[-1,-1,-1]])\n",
    "    perwittoperatorsxx1,perwittoperatorsxy1=perwittoperatorsy.shape\n",
    "    prewitt_operator_sx_median=perwittoperatorsxx//2\n",
    "    prewitt_operator_sx1_median=perwittoperatorsxy//2\n",
    "    prewitt_operator_sy_median=perwittoperatorsxx1//2\n",
    "    prewitt_operator_sy1_median=perwittoperatorsxy1//2\n",
    "    x,y=new_image_array.shape\n",
    "    \n",
    "    Gradientx=np.zeros((x,y),dtype=float)\n",
    "    Gradienty=np.zeros((x,y),dtype=float)\n",
    "\n",
    "    \n",
    "    \n",
    "\n",
    "    for i in range(x):\n",
    "        for j in range(y):\n",
    "            a=i+prewitt_operator_sx_median\n",
    "            b=i-prewitt_operator_sy_median\n",
    "            if((a) in range(x)):\n",
    "                if((b) in range(x)):\n",
    "                    c=j+prewitt_operator_sx1_median\n",
    "                    d=j-prewitt_operator_sy1_median\n",
    "                    if((c) in range(y)):\n",
    "                        if((d) in range(y)):\n",
    "                            start_row=b\n",
    "                            sum1=0\n",
    "                            sum2=0\n",
    "                            for m in range(perwittoperatorsxx):\n",
    "                                start_col=d\n",
    "                                for l in range(perwittoperatorsxy):\n",
    "                                    sum1=(sum1+(perwittoperatorsx[m][l]*new_image_array[start_row][start_col]))\n",
    "                                    sum2=(sum2+(perwittoperatorsy[m][l]*new_image_array[start_row][start_col]))\n",
    "                                    start_col=start_col+1\n",
    "                                start_row=start_row+1\n",
    "                            \n",
    "                            Gradientx[i][j]=sum1\n",
    "                            Gradienty[i][j]=sum2\n",
    "    \n",
    "    \n",
    "    \n",
    "                            \n",
    "    plt.imshow(Gradientx)\n",
    "    plt.show()     \n",
    "    plt.imshow(Gradienty)\n",
    "    plt.show()\n",
    "    return Gradientx,Gradienty\n",
    "    \n",
    "    \n",
    "\n",
    "\n",
    "# In[39]:\n",
    "\n",
    "\n",
    "#Used for the Purpose of Finding Magnitude Array and Angle Array. It will return Magnitude and Angle Array/. \n",
    "def gradient_magnitude(Gradientx,Gradienty):\n",
    "    x,y=Gradientx.shape\n",
    "    Magnitudearray=np.zeros((x,y),dtype=float)\n",
    "    anglearray1=np.zeros((x,y),dtype=float)\n",
    "# Calculating Magnitude Array from the Grdient X and Gradient Y.    \n",
    "    for a in range(x):\n",
    "        for b in range(y):\n",
    "            Magnitudearray[a][b]=((Gradientx[a][b]*Gradientx[a][b])+(Gradienty[a][b]*Gradienty[a][b]))\n",
    "            Magnitudearray[a][b]=sqrt(Magnitudearray[a][b])\n",
    "            Magnitudearray[a][b]=np.round(Magnitudearray[a][b]/1.4142)\n",
    "\n",
    "            \n",
    "            \n",
    "#  Computing Angle Array from the Gradientx and GradientY            \n",
    "    anglearray=np.arctan2(Gradienty,Gradientx)\n",
    "    x,y=Gradientx.shape\n",
    "    \n",
    "# Noamalizing anglke      \n",
    "    for e in range(x):\n",
    "        for l in range(y):\n",
    "            anglearray[e][l]=degrees(anglearray[e][l])\n",
    "            anglearray[e][l]=np.mod((anglearray[e][l]+360),360)\n",
    "            if((anglearray[e][l]>=170) and (anglearray[e][l]<350)):\n",
    "                anglearray1[e][l]=anglearray[e][l]-180\n",
    "            elif(anglearray[e][l]>=350):\n",
    "                anglearray1[e][l]=anglearray[e][l]-360\n",
    "            else:\n",
    "                anglearray1[e][l]=anglearray[e][l]\n",
    "\n",
    "    \n",
    "    \n",
    "\n",
    "    plt.imshow(Magnitudearray)\n",
    "    plt.show()\n",
    "    return Magnitudearray,anglearray1\n",
    "\n",
    "\n",
    "# In[40]:\n",
    "\n",
    "\n",
    "def histogram_of_gradient(Magnitudearray,anglearray):\n",
    "    descriptor_list=[]\n",
    "    x,y=Magnitudearray.shape\n",
    "\n",
    "    list_of_histogram=[]\n",
    "    i=0\n",
    "    j=0\n",
    "    while(i+16<=x):\n",
    "            j=0\n",
    "            while(j+16<=y):\n",
    "                    sixteen_block=[]\n",
    "                    cell_i=i\n",
    "                    cell_j=j\n",
    "                    count=0\n",
    "                    l=0\n",
    "#create list for the 16 cells means one block.                     \n",
    "                    for l in range(4):\n",
    "# Gives the eight cell                         \n",
    "                        eight_cell=[0,0,0,0,0,0,0,0,0]\n",
    "                        \n",
    "                        k=0\n",
    "                        p=0\n",
    "\n",
    "                        for k in range(cell_i,cell_i+8):\n",
    "\n",
    "                            for p in range(cell_j,cell_j+8):\n",
    "\n",
    "                                if((anglearray[k][p]>=-10) and (anglearray[k][p]<0)):\n",
    "                                    ratio1=(20-(np.abs(0+anglearray[k][p]))/20)\n",
    "                                    ratio2=(20-(np.abs(20+anglearray[k][p]))/20)\n",
    "                                    eight_cell[0]=eight_cell[0]+(Magnitudearray[k][p]*ratio1)\n",
    "                                    eight_cell[8]=eight_cell[0]+(Magnitudearray[k][p]*ratio2)\n",
    "                                elif((anglearray[k][p]>=0)and (anglearray[k][p]<=20)):\n",
    "                                    if(anglearray[k][p]==0):\n",
    "                                        eight_cell[0]=eight_cell[0]+Magnitudearray[k][p]\n",
    "                                    elif(anglearray[k][p]==20):\n",
    "                                        eight_cell[1]=eight_cell[1]+Magnitudearray[k][p]\n",
    "                                    else:\n",
    "                                        ratio1=(20-(np.abs(anglearray[k][p]-0))/20)\n",
    "                                        ratio2=(20-(np.abs(anglearray[k][p]-20))/20)\n",
    "                                        eight_cell[0]=eight_cell[0]+(Magnitudearray[k][p]*ratio1)\n",
    "                                        eight_cell[1]=eight_cell[1]+(Magnitudearray[k][p]*ratio2)\n",
    "                                elif((anglearray[k][p]>20)and (anglearray[k][p]<=40)):\n",
    "                                    if(anglearray[k][p]==40):\n",
    "                                        eight_cell[2]=eight_cell[2]+Magnitudearray[k][p]\n",
    "                                    else:\n",
    "                                        ratio1=(20-(np.abs(anglearray[k][p]-20))/20)\n",
    "                                        ratio2=(20-(np.abs(anglearray[k][p]-40))/20)\n",
    "                                        eight_cell[1]=eight_cell[1]+(Magnitudearray[k][p]*ratio1)\n",
    "                                        eight_cell[2]=eight_cell[2]+(Magnitudearray[k][p]*ratio2)\n",
    "                                elif((anglearray[k][p]>40)and (anglearray[k][p]<=60)):\n",
    "                                    if(anglearray[k][p]==60):\n",
    "                                        eight_cell[3]=eight_cell[3]+Magnitudearray[k][p]\n",
    "                                    else:\n",
    "                                        ratio1=(20-(np.abs(anglearray[k][p]-40))/20)\n",
    "                                        ratio2=(20-(np.abs(anglearray[k][p]-60))/20)\n",
    "                                        eight_cell[2]=eight_cell[2]+(Magnitudearray[k][p]*ratio1)\n",
    "                                        eight_cell[3]=eight_cell[3]+(Magnitudearray[k][p]*ratio2)\n",
    "                                elif((anglearray[k][p]>60) and (anglearray[k][p]<=80)):\n",
    "                                    if(anglearray[k][p]==80):\n",
    "                                        eight_cell[4]=eight_cell[4]+Magnitudearray[k][p]\n",
    "                                    else:\n",
    "                                        ratio1=(20-(np.abs(anglearray[k][p]-60))/20)\n",
    "                                        ratio2=(20-(np.abs(anglearray[k][p]-80))/20)\n",
    "                                        eight_cell[3]=eight_cell[3]+(Magnitudearray[k][p]*ratio1)\n",
    "                                        eight_cell[4]=eight_cell[4]+(Magnitudearray[k][p]*ratio2)\n",
    "                                elif((anglearray[k][p]>80) and (anglearray[k][p]<=100)):\n",
    "                                    if(anglearray[k][p]==100):\n",
    "                                        eight_cell[5]=eight_cell[5]+(Magnitudearray[k][p])\n",
    "                                    else:\n",
    "                                        ratio1=(20-(np.abs(anglearray[k][p]-80))/20)\n",
    "                                        ratio2=(20-(np.abs(anglearray[k][p]-100))/20)\n",
    "                                        eight_cell[4]=eight_cell[4]+(Magnitudearray[k][p]*ratio1)\n",
    "                                        eight_cell[5]=eight_cell[5]+(Magnitudearray[k][p]*ratio2)\n",
    "                                elif((anglearray[k][p]>100) and (anglearray[k][p]<=120)):\n",
    "                                    if(anglearray[k][p]==120):\n",
    "                                        eight_cell[6]=eight_cell[6]+Magnitudearray[k][p]\n",
    "                                    else:\n",
    "                                        ratio1=(20-(np.abs(anglearray[k][p]-100))/20)\n",
    "                                        ratio2=(20-(np.abs(anglearray[k][p]-120))/20)\n",
    "                                        eight_cell[5]=eight_cell[5]+(Magnitudearray[k][p]*ratio1)\n",
    "                                        eight_cell[6]=eight_cell[6]+(Magnitudearray[k][p]*ratio2)\n",
    "                                elif((anglearray[k][p]>120) and (anglearray[k][p]<=140)):\n",
    "                                    if(anglearray[k][p]==140):\n",
    "                                        eight_cell[7]=eight_cell[7]+Magnitudearray[k][p]\n",
    "                                    else:\n",
    "                                        ratio1=(20-(np.abs(anglearray[k][p]-120))/20)\n",
    "                                        ratio2=(20-(np.abs(anglearray[k][p]-140))/20)\n",
    "                                        eight_cell[6]=eight_cell[6]+(Magnitudearray[k][p]*ratio1)\n",
    "                                        eight_cell[7]=eight_cell[7]+(Magnitudearray[k][p]*ratio2)\n",
    "                                elif((anglearray[k][p]>140) and (anglearray[k][p]<=160)):\n",
    "                                    if(anglearray[k][p]==160):\n",
    "                                        eight_cell[8]=eight_cell[8]+Magnitudearray[k][p]\n",
    "                                    else:\n",
    "                                        ratio1=(20-(np.abs(anglearray[k][p]-140))/20)\n",
    "                                        ratio2=(20-(np.abs(anglearray[k][p]-160))/20)\n",
    "                                        eight_cell[7]=eight_cell[7]+(Magnitudearray[k][p]*ratio1)\n",
    "                                        eight_cell[8]=eight_cell[8]+(Magnitudearray[k][p]*ratio2)\n",
    "                                elif((anglearray[k][p]>160) and (anglearray[k][p]<170)):\n",
    "                                    ratio1=(20-(np.abs(anglearray[k][p]-180))/20)\n",
    "                                    ratio2=(20-(np.abs(anglearray[k][p]-160))/20)\n",
    "                                    eight_cell[0]=eight_cell[0]+(Magnitudearray[k][p]*ratio1)\n",
    "                                    eight_cell[8]=eight_cell[8]+(Magnitudearray[k][p]*ratio2)\n",
    "                                \n",
    "                                     \n",
    "                                        \n",
    "                                            \n",
    "                                         \n",
    "                                        \n",
    "                    \n",
    "                        if(count==0):\n",
    "                            cell_j=cell_j+8\n",
    "                            count=count+1\n",
    "                        elif(count==1):\n",
    "                            cell_i=cell_i+8\n",
    "                            cell_j=j\n",
    "                            count=count+1\n",
    "                        elif(count==2):\n",
    "                            cell_j=cell_j+8\n",
    "                            count=count+1\n",
    "                        sixteen_block.append(eight_cell)\n",
    "\n",
    "                    \n",
    "#creating a vector of thirty six and one.Normalizing the vector.  \n",
    "                    thirty_six_vector=[]\n",
    "                    yu=0\n",
    "                    sum1=0\n",
    "                    for yu in range(len(sixteen_block)):\n",
    "                        c=sixteen_block[yu]\n",
    "                        for hi in range(len(c)):\n",
    "                            thirty_six_vector.append(c[hi])\n",
    "                            sum1=sum1+(c[hi]*c[hi])\n",
    "                    normalized_vector=[]\n",
    "                    square_root=np.sqrt(sum1)\n",
    "                    for nb in range(len(thirty_six_vector)):\n",
    "                        normalized_vector.append(thirty_six_vector[nb]/square_root)\n",
    "# creating a descriptor list of length 7524.                    \n",
    "\n",
    "                    \n",
    "                    for kj in range(len(normalized_vector)):\n",
    "                        descriptor_list.append(normalized_vector[kj])\n",
    "                \n",
    "            \n",
    "\n",
    "                    j=j+8\n",
    "            \n",
    "            i=i+8\n",
    "                    \n",
    "                        \n",
    "                                                 \n",
    "\n",
    "    return descriptor_list\n",
    "                                    \n",
    "                    \n",
    "            \n",
    "        \n",
    "\n",
    "            \n",
    "        \n",
    "               \n",
    "\n",
    "\n",
    "# In[41]:\n",
    "\n",
    "\n",
    "# Do prewitt operation,Gradient magnitude output and return a list of descriptor of length 7524.\n",
    "def images_descriptor(image,imagename):\n",
    "    \n",
    "\n",
    "    b,g,r=cv2.split(image)\n",
    "    new_image_array=np.round(0.299*r+0.587*g+0.114*b)\n",
    "    x,y=new_image_array.shape\n",
    "    Gradientx,Gradienty=prewitt_operator(new_image_array)\n",
    "    Magnitudearray,anglearray1=gradient_magnitude(Gradientx,Gradienty)\n",
    "    import imageio as i\n",
    "    i.imwrite(\"Magnitude_ %s.bmp\"%imagename,Magnitudearray)\n",
    "    descriptor_list=histogram_of_gradient(Magnitudearray,anglearray1)\n",
    "    return descriptor_list\n",
    "    \n",
    "    \n",
    "\n",
    "\n",
    "\n",
    "\n",
    "\n",
    "# relu function\n",
    "def relu(array):\n",
    "    x,y=array.shape\n",
    "    new_array=np.zeros((x,y),dtype=float)\n",
    "    for i in range(x):\n",
    "        for j in range(y):\n",
    "            if(array[i][j]>0):\n",
    "                new_array[i][j]=array[i][j]\n",
    "            else:\n",
    "                new_array[i][j]=0\n",
    "    return new_array\n",
    "# signoid function\n",
    "def signoid(xx):\n",
    "    z=(1/(1+(np.exp(-xx))))\n",
    "    return z\n",
    "\n",
    "\n",
    "# In[42]:\n",
    "\n",
    "\n",
    "import math\n",
    "# Neural network \n",
    "def neural(descriptor_array,output_array,no_of_hidden_nodes,no_of_epochs,nodes_max):\n",
    "    x,y=descriptor_array.shape\n",
    "    row_descriptor=x\n",
    "    col_descriptor=y\n",
    "    row_output,col_output1=output_array.shape\n",
    "    col_output=col_output1\n",
    "    \n",
    "#  Creates nodes of the size of descriptor length, Number of hidden Nodes.\n",
    "    node1=np.random.randn(col_descriptor,no_of_hidden_nodes)\n",
    "    node1=np.multiply(node1,math.sqrt(2/int(col_descriptor+no_of_hidden_nodes)))\n",
    "    \n",
    "    node11=np.random.randn(no_of_hidden_nodes)\n",
    "    node11=np.multiply(node11,math.sqrt(2/int(no_of_hidden_nodes)))\n",
    "    \n",
    "    node2=np.random.randn(no_of_hidden_nodes,col_output)\n",
    "    node2=np.multiply(node2,math.sqrt(1/int(no_of_hidden_nodes+col_output)))\n",
    "    \n",
    "    node22=np.random.randn(col_output)\n",
    "    node22=np.multiply(node22,math.sqrt(1/int(col_output)))\n",
    "    \n",
    "    \n",
    "    #print(layer1_weight,layer1_weight0)\n",
    "    for r in range(nodes_max):\n",
    "# Used for the purppse of finding the sqaur error.        \n",
    "        square_error= np.zeros((1,col_output))\n",
    "            \n",
    "        for j in range(row_descriptor):\n",
    "#Extract the descriptor for the each image  and multiply them with the  weights of ndoe and send the output to the other node.This will goes to the relu functions and return the output for it.               \n",
    "            a=descriptor_array[j,:].reshape([1,-1])             \n",
    "            b=relu((a.dot(node1)+node11))\n",
    "            print(\"reluuuuuuuuuuuuuuuuuuuuuuuuuuuuuuuuuu\",b)\n",
    "# This will send the value to the signoid functions. After that we will compare with the expected output and find the error.        \n",
    "            c=signoid(b.dot(node2)+node22)\n",
    "\n",
    "            \n",
    "            error=(output_array[j,0]-c)\n",
    "            \n",
    "            square_error+= 0.5*np.square(error)\n",
    "# Backwoard Propagation adjusting the weights till we minimize the error.                       \n",
    "            node_dell=(-1*error)*(1-c)*c\n",
    "            node_dell2=b.T.dot(node_dell)\n",
    "            node_dell22=np.sum(node_dell,axis=0)\n",
    "            \n",
    "            \n",
    "            gh=np.zeros_like(b)\n",
    "            for ghh in range(no_of_hidden_nodes):\n",
    "            \n",
    "                if(gh[0][ghh]>0):\n",
    "                    gh[0][ghh]=1\n",
    "                else:\n",
    "                    gh[0][ghh]=0\n",
    "                       \n",
    "            node_dell_hidden= node_dell.dot(node2.T)*gh\n",
    "            node_dell1=a.T.dot(node_dell_hidden)\n",
    "            node_dell11=np.sum(node_dell_hidden,axis=0)\n",
    "            \n",
    "            node2-= no_of_epochs*node_dell2\n",
    "            node22-=no_of_epochs*node_dell22\n",
    "            node1-= no_of_epochs*node_dell1\n",
    "            node11-=no_of_epochs*node_dell11\n",
    "\n",
    "             \n",
    "                      \n",
    "\n",
    "    return node1,node11,node2,node22\n",
    "   \n",
    "# This is used as a function for predciting the output of the test images whether it detects correctly or not.It will call signoid,relu and return the list of the predicted output for the images.             \n",
    "def prediced_output(weight1,weight11,weight2,weight22,output_descriptor_array):\n",
    "    x,y=output_descriptor_array.shape\n",
    "    predicted=[]\n",
    "    \n",
    "    for r in range(x):\n",
    "        a=output_descriptor_array[r,:].reshape([1,-1])\n",
    "        b=relu((a.dot(weight1)+weight11))\n",
    "        c=signoid((b.dot(weight2)+weight22))\n",
    "        predicted.append(c)\n",
    "    return predicted\n",
    "\n",
    "\n",
    "# In[43]:\n",
    "\n",
    "\n",
    "\n",
    "\n",
    "\n",
    "\n",
    "# Used for the purpose of training the neural. It will return a list of descriptopr which is used as descriptior input for the neural traning.\n",
    "\n",
    "\n",
    "\n",
    "def train():\n",
    "# Calling Image Desxcriptor function for each image which consist of functions Histogram, Gradient Magnitude. It will return a Descriotor of each image.      \n",
    "    descriptor_final_list=[]\n",
    "\n",
    "    output_list=[]\n",
    "    img=cv2.imread('crop001030c.bmp')\n",
    "    image_descriptorr=images_descriptor(img,'crop001030c.bmp')\n",
    "    descriptor_final_list.append(image_descriptorr)\n",
    "    output_list.append(1)\n",
    "    img=cv2.imread('crop001034b.bmp')\n",
    "    image_descriptorr=images_descriptor(img,'crop001034b.bmp')\n",
    "    descriptor_final_list.append(image_descriptorr)\n",
    "    output_list.append(1)\n",
    "    img=cv2.imread('crop001063b.bmp')\n",
    "    image_descriptorr=images_descriptor(img,'crop001063b.bmp')\n",
    "    descriptor_final_list.append(image_descriptorr)\n",
    "    output_list.append(1)\n",
    "    img=cv2.imread('crop001070a.bmp')\n",
    "    image_descriptorr=images_descriptor(img,'crop001070a.bmp')\n",
    "    descriptor_final_list.append(image_descriptorr)\n",
    "    output_list.append(1)\n",
    "    img=cv2.imread('crop001275b.bmp')\n",
    "    image_descriptorr=images_descriptor(img,'crop001275b.bmp')\n",
    "    descriptor_final_list.append(image_descriptorr)\n",
    "    output_list.append(1)\n",
    "    img=cv2.imread('crop001278a.bmp')\n",
    "    image_descriptorr=images_descriptor(img,'crop001278a.bmp')\n",
    "    descriptor_final_list.append(image_descriptorr)\n",
    "    output_list.append(1)\n",
    "#     outputt1=np.zeros((len(image_descriptorr),1))\n",
    "#     for ty in range(len(outputt1)):\n",
    "#         outputt1[ty][0]=image_descriptorr[ty]\n",
    "#         print(outputt1[ty][0])\n",
    "    \n",
    "    \n",
    "    \n",
    "    img=cv2.imread('crop001500b.bmp')\n",
    "    image_descriptorr=images_descriptor(img,'crop001500b.bmp')\n",
    "    descriptor_final_list.append(image_descriptorr)\n",
    "    output_list.append(1)\n",
    "    img=cv2.imread('crop001672b.bmp')\n",
    "    image_descriptorr=images_descriptor(img,'crop001672b.bmp')\n",
    "    descriptor_final_list.append(image_descriptorr)\n",
    "    output_list.append(1)\n",
    "    img=cv2.imread('person_and_bike_026a.bmp')\n",
    "    image_descriptorr=images_descriptor(img,'person_and_bike_026a.bmp')\n",
    "    descriptor_final_list.append(image_descriptorr)\n",
    "    output_list.append(1)\n",
    "    img=cv2.imread('person_and_bike_151a.bmp')\n",
    "    image_descriptorr=images_descriptor(img,'person_and_bike_151a.bmp')\n",
    "    descriptor_final_list.append(image_descriptorr)\n",
    "    output_list.append(1)\n",
    "\n",
    "\n",
    "\n",
    "    # negative images\n",
    "\n",
    "    img=cv2.imread('00000003a_cut.bmp')\n",
    "    image_descriptorr=images_descriptor(img,'00000003a_cut.bmp')\n",
    "    descriptor_final_list.append(image_descriptorr)\n",
    "    output_list.append(0)\n",
    "\n",
    "    img=cv2.imread('00000057a_cut.bmp')\n",
    "    image_descriptorr=images_descriptor(img,'00000057a_cut.bmp')\n",
    "    descriptor_final_list.append(image_descriptorr)\n",
    "    output_list.append(0)\n",
    "\n",
    "    img=cv2.imread('00000090a_cut.bmp')\n",
    "    image_descriptorr=images_descriptor(img,'00000090a_cut.bmp')\n",
    "    descriptor_final_list.append(image_descriptorr)\n",
    "    output_list.append(0)\n",
    "\n",
    "\n",
    "    img=cv2.imread('00000091a_cut.bmp')\n",
    "    image_descriptorr=images_descriptor(img,'00000091a_cut.bmp')\n",
    "    descriptor_final_list.append(image_descriptorr)\n",
    "    output_list.append(0)\n",
    "\n",
    "\n",
    "    img=cv2.imread('00000118a_cut.bmp')\n",
    "    image_descriptorr=images_descriptor(img,'00000118a_cut.bmp')\n",
    "    descriptor_final_list.append(image_descriptorr)\n",
    "    output_list.append(0)\n",
    "\n",
    "    img=cv2.imread('01-03e_cut.bmp')\n",
    "    image_descriptorr=images_descriptor(img,'01-03e_cut.bmp')\n",
    "    descriptor_final_list.append(image_descriptorr)\n",
    "    output_list.append(0)\n",
    "\n",
    "    img=cv2.imread('no_person__no_bike_219_cut.bmp')\n",
    "    image_descriptorr=images_descriptor(img,'no_person__no_bike_219_cut.bmp')\n",
    "    descriptor_final_list.append(image_descriptorr)\n",
    "    output_list.append(0)\n",
    "\n",
    "\n",
    "    img=cv2.imread('no_person__no_bike_258_Cut.bmp')\n",
    "    image_descriptorr=images_descriptor(img,'no_person__no_bike_258_Cut.bmp')\n",
    "    descriptor_final_list.append(image_descriptorr)\n",
    "    output_list.append(0)\n",
    "\n",
    "    img=cv2.imread('no_person__no_bike_259_cut.bmp')\n",
    "    image_descriptorr=images_descriptor(img,'no_person__no_bike_259_cut.bmp')\n",
    "    descriptor_final_list.append(image_descriptorr)\n",
    "    output_list.append(0)\n",
    "\n",
    "    img=cv2.imread('no_person__no_bike_264_cut.bmp')\n",
    "    image_descriptorr=images_descriptor(img,'no_person__no_bike_264_cut.bmp')\n",
    "    descriptor_final_list.append(image_descriptorr)\n",
    "    output_list.append(0)\n",
    "\n",
    "\n",
    "\n",
    "# Cnverting a list of Descriptor which consist of all Images descriptor into a Array which will then send as a input for the neural. \n",
    "\n",
    "    descriptor_array=np.zeros((20,len(descriptor_final_list[0])),dtype=float)\n",
    "    length1,length2=descriptor_array.shape\n",
    "\n",
    "    for x in range(length1):\n",
    "        descriptor_array[x]=descriptor_final_list[x]\n",
    "\n",
    "    \n",
    "    output_array=np.zeros((20,1),dtype=float)\n",
    "    length3,length4=output_array.shape\n",
    "# Output Array which shows 1 if the iamge contain Human else 0 if not Human\n",
    "    for x in range(length3):\n",
    "        output_array[x][0]=output_list[x]\n",
    "    \n",
    "    return descriptor_array,output_array\n",
    "\n",
    "\n",
    "# In[44]:\n",
    "\n",
    "\n",
    "def main():\n",
    "\n",
    "    descriptor_array,output_array=train()\n",
    "# After training we will get the weights which can then used for the purpose of testing on the images. These weights then used on the test images and help to predict the Hum\n",
    "\n",
    "    weight1,weight11,weight2,weight22=neural(descriptor_array,output_array,250,0.01,100)\n",
    "\n",
    "# Now we will test these weights on the test images.\n",
    "    output_descripted_array=[]\n",
    "    out_predicated=[]\n",
    "# positive test images\n",
    "    img=cv2.imread('crop001008b.bmp')\n",
    "    image_descriptorr=images_descriptor(img,'crop001008b.bmp')\n",
    "    output_descripted_array.append(image_descriptorr)\n",
    "    out_predicated.append(1)\n",
    "\n",
    "\n",
    "# test negative images\n",
    "\n",
    "    img=cv2.imread('00000053a_cut.bmp')\n",
    "    image_descriptorr=images_descriptor(img,'00000053a_cut.bmp')\n",
    "    output_descripted_array.append(image_descriptorr)\n",
    "    out_predicated.append(0)\n",
    "\n",
    "\n",
    "    output_descriptorr_array=np.zeros((len(output_descripted_array),len(output_descripted_array[0])))\n",
    "    \n",
    "    for i in range(len(output_descriptorr_array)):\n",
    "        output_descriptorr_array[i]=output_descripted_array[i]\n",
    "    output_predicted=prediced_output(weight1,weight11,weight2,weight22,output_descriptorr_array)\n",
    "    print(output_predicted)\n",
    "# tch it will display Human. Otherwise, it will be not identified.  \n",
    "\n",
    "\n",
    "\n",
    "   \n",
    "\n",
    "\n",
    "# In[45]:\n",
    "\n",
    "\n",
    "if __name__ == '__main__':\n",
    "    main()\n"
   ]
  },
  {
   "cell_type": "code",
   "execution_count": null,
   "metadata": {},
   "outputs": [],
   "source": []
  }
 ],
 "metadata": {
  "kernelspec": {
   "display_name": "Python 3",
   "language": "python",
   "name": "python3"
  },
  "language_info": {
   "codemirror_mode": {
    "name": "ipython",
    "version": 3
   },
   "file_extension": ".py",
   "mimetype": "text/x-python",
   "name": "python",
   "nbconvert_exporter": "python",
   "pygments_lexer": "ipython3",
   "version": "3.7.0"
  }
 },
 "nbformat": 4,
 "nbformat_minor": 2
}
